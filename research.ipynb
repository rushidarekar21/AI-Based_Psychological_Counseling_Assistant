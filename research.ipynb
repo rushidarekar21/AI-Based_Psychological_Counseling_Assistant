{
 "cells": [
  {
   "cell_type": "code",
   "execution_count": 7,
   "metadata": {},
   "outputs": [
    {
     "name": "stderr",
     "output_type": "stream",
     "text": [
      "d:\\coding\\AI-Based_Psychological_Counseling_Assistant\\venv\\Lib\\site-packages\\tqdm\\auto.py:21: TqdmWarning: IProgress not found. Please update jupyter and ipywidgets. See https://ipywidgets.readthedocs.io/en/stable/user_install.html\n",
      "  from .autonotebook import tqdm as notebook_tqdm\n"
     ]
    }
   ],
   "source": [
    "import faiss\n",
    "import numpy as np\n",
    "import pandas as pd\n",
    "from sentence_transformers import SentenceTransformer"
   ]
  },
  {
   "cell_type": "code",
   "execution_count": 3,
   "metadata": {},
   "outputs": [],
   "source": [
    "data = pd.read_csv(\"Mental_Health_FAQ.csv\")"
   ]
  },
  {
   "cell_type": "code",
   "execution_count": 4,
   "metadata": {},
   "outputs": [
    {
     "data": {
      "text/html": [
       "<div>\n",
       "<style scoped>\n",
       "    .dataframe tbody tr th:only-of-type {\n",
       "        vertical-align: middle;\n",
       "    }\n",
       "\n",
       "    .dataframe tbody tr th {\n",
       "        vertical-align: top;\n",
       "    }\n",
       "\n",
       "    .dataframe thead th {\n",
       "        text-align: right;\n",
       "    }\n",
       "</style>\n",
       "<table border=\"1\" class=\"dataframe\">\n",
       "  <thead>\n",
       "    <tr style=\"text-align: right;\">\n",
       "      <th></th>\n",
       "      <th>Question_ID</th>\n",
       "      <th>Questions</th>\n",
       "      <th>Answers</th>\n",
       "    </tr>\n",
       "  </thead>\n",
       "  <tbody>\n",
       "    <tr>\n",
       "      <th>0</th>\n",
       "      <td>1590140</td>\n",
       "      <td>What does it mean to have a mental illness?</td>\n",
       "      <td>Mental illnesses are health conditions that di...</td>\n",
       "    </tr>\n",
       "    <tr>\n",
       "      <th>1</th>\n",
       "      <td>2110618</td>\n",
       "      <td>Who does mental illness affect?</td>\n",
       "      <td>It is estimated that mental illness affects 1 ...</td>\n",
       "    </tr>\n",
       "    <tr>\n",
       "      <th>2</th>\n",
       "      <td>6361820</td>\n",
       "      <td>What causes mental illness?</td>\n",
       "      <td>It is estimated that mental illness affects 1 ...</td>\n",
       "    </tr>\n",
       "    <tr>\n",
       "      <th>3</th>\n",
       "      <td>9434130</td>\n",
       "      <td>What are some of the warning signs of mental i...</td>\n",
       "      <td>Symptoms of mental health disorders vary depen...</td>\n",
       "    </tr>\n",
       "    <tr>\n",
       "      <th>4</th>\n",
       "      <td>7657263</td>\n",
       "      <td>Can people with mental illness recover?</td>\n",
       "      <td>When healing from mental illness, early identi...</td>\n",
       "    </tr>\n",
       "  </tbody>\n",
       "</table>\n",
       "</div>"
      ],
      "text/plain": [
       "   Question_ID                                          Questions  \\\n",
       "0      1590140        What does it mean to have a mental illness?   \n",
       "1      2110618                    Who does mental illness affect?   \n",
       "2      6361820                        What causes mental illness?   \n",
       "3      9434130  What are some of the warning signs of mental i...   \n",
       "4      7657263            Can people with mental illness recover?   \n",
       "\n",
       "                                             Answers  \n",
       "0  Mental illnesses are health conditions that di...  \n",
       "1  It is estimated that mental illness affects 1 ...  \n",
       "2  It is estimated that mental illness affects 1 ...  \n",
       "3  Symptoms of mental health disorders vary depen...  \n",
       "4  When healing from mental illness, early identi...  "
      ]
     },
     "execution_count": 4,
     "metadata": {},
     "output_type": "execute_result"
    }
   ],
   "source": [
    "data.head()"
   ]
  },
  {
   "cell_type": "code",
   "execution_count": 8,
   "metadata": {},
   "outputs": [
    {
     "name": "stderr",
     "output_type": "stream",
     "text": [
      "d:\\coding\\AI-Based_Psychological_Counseling_Assistant\\venv\\Lib\\site-packages\\huggingface_hub\\file_download.py:140: UserWarning: `huggingface_hub` cache-system uses symlinks by default to efficiently store duplicated files but your machine does not support them in C:\\Users\\rushi\\.cache\\huggingface\\hub\\models--sentence-transformers--all-MiniLM-L6-v2. Caching files will still work but in a degraded version that might require more space on your disk. This warning can be disabled by setting the `HF_HUB_DISABLE_SYMLINKS_WARNING` environment variable. For more details, see https://huggingface.co/docs/huggingface_hub/how-to-cache#limitations.\n",
      "To support symlinks on Windows, you either need to activate Developer Mode or to run Python as an administrator. In order to activate developer mode, see this article: https://docs.microsoft.com/en-us/windows/apps/get-started/enable-your-device-for-development\n",
      "  warnings.warn(message)\n"
     ]
    }
   ],
   "source": [
    "# Initialize the embedding model\n",
    "embedding_model = SentenceTransformer('all-MiniLM-L6-v2')"
   ]
  },
  {
   "cell_type": "code",
   "execution_count": 9,
   "metadata": {},
   "outputs": [
    {
     "name": "stdout",
     "output_type": "stream",
     "text": [
      "Generating embeddings...\n"
     ]
    }
   ],
   "source": [
    "# Generate embeddings for questions\n",
    "print(\"Generating embeddings...\")\n",
    "embeddings = embedding_model.encode(data['Questions'].tolist())\n",
    "\n",
    "# Convert embeddings to a NumPy array\n",
    "embeddings = np.array(embeddings, dtype='float32')\n"
   ]
  },
  {
   "cell_type": "code",
   "execution_count": 10,
   "metadata": {},
   "outputs": [
    {
     "name": "stdout",
     "output_type": "stream",
     "text": [
      "Initializing FAISS index...\n"
     ]
    }
   ],
   "source": [
    "# Initialize FAISS index\n",
    "print(\"Initializing FAISS index...\")\n",
    "dimension = embeddings.shape[1]  # Length of embeddings\n",
    "index = faiss.IndexFlatL2(dimension)  # L2 distance metric"
   ]
  },
  {
   "cell_type": "code",
   "execution_count": 11,
   "metadata": {},
   "outputs": [
    {
     "name": "stdout",
     "output_type": "stream",
     "text": [
      "Adding embeddings to FAISS index...\n"
     ]
    }
   ],
   "source": [
    "# Add embeddings to the index\n",
    "print(\"Adding embeddings to FAISS index...\")\n",
    "index.add(embeddings)"
   ]
  },
  {
   "cell_type": "code",
   "execution_count": 28,
   "metadata": {},
   "outputs": [
    {
     "name": "stdout",
     "output_type": "stream",
     "text": [
      "FAISS index saved successfully!\n"
     ]
    }
   ],
   "source": [
    "# Save the FAISS index to a file\n",
    "faiss.write_index(index, \"faiss_index_file.index\")\n",
    "print(\"FAISS index saved successfully!\")"
   ]
  },
  {
   "cell_type": "code",
   "execution_count": 29,
   "metadata": {},
   "outputs": [
    {
     "name": "stdout",
     "output_type": "stream",
     "text": [
      "FAISS index loaded successfully!\n",
      "Searching for similar contexts...\n",
      "\n",
      "Top Matching Contexts:\n",
      "Q: How can I use distraction to manage difficult thoughts or feelings?\n",
      "A: Distraction is a very valid tool to help you cope when everything feels overwhelming or when you feel lonely or isolated. \n",
      " If you don't have a lot of energy or focus right now, try low-effort distractions like watching TV, browsing Youtube, listening to a podcast or audiobook, playing a game on your phone, reading an easy book or magazine, or working on a simple art project. \n",
      " If you have more energy and focus, give yourself a to-do list every day: you can clean and take care of projects around your home, work on hobbies, connect with family or friends, read a new book and catch up on your favourite TV shows. You can find interesting opportunities to take online courses from universities all over the world through MOOCs and other online learning platforms, you can learn a new language online or through apps, and you can learn new hobbies and activities. As more people have to practice social distancing or self-isolation, people are finding creative ways to bring the world into their homes: you can tour museums and art galleries, Skype with a scientist, watch animals at zoos and nature preserves, and more. \n",
      " When normal schedules are disrupted, it's easy to fall into unhelpful habits. Look for ways to keep yourself on track with healthier habits. You could set yourself goals every day or turn activities into a fun competition with friends or family—whoever takes the most language classes wins! \n",
      " Many communities are using social media platforms like Facebook to organize support and help for neighbours. If you are healthy and it's safe to do so, you can sign up to walk dogs, pick up groceries and household supplies, and help others who can't go out at the moment. This can be a great way to make new connections in your area, and helping others is good for your own mental health. Just be sure to follow good hygiene practices and physical distancing—your own health is important.\n",
      "\n",
      "Q: What do I do if I’m worried about my mental health?\n",
      "A: The most important thing is to talk to someone you trust. This might be a friend, colleague, family member, or GP. In addition to talking to someone, it may be useful to find out more information about what you are experiencing. These things may help to get some perspective on what you are experiencing, and be the start of getting help.\n",
      "\n",
      "Q: What's the difference between anxiety and stress?\n",
      "A: Stress and anxiety are often used interchangeably, and there is overlap between stress and anxiety. Stress is related to the same ‘fight, flight, or freeze’ response as anxiety, and the physical sensations of anxiety and stress may be very similar. \n",
      " The cause of stress and anxiety are usually different, however. Stress focuses on mainly external pressures on us that we’re finding hard to cope with. When we are stressed, we usually know what we’re stressed about, and the symptoms of stress typically disappear after the stressful situation is over. \n",
      " Anxiety, on the other hand, isn’t always as easy to figure out. Anxiety focuses on worries or fears about things that could threaten us, as well as anxiety about the anxiety itself. Stress and anxiety are both part of being human, but both can be problems if they last for a long time or have an impact on our well-being or daily life.\n",
      "\n",
      "Q: I’m an adult and I think I might have ADHD. What can I do next?\n",
      "A: While we think of attention-deficit/hyperactivity disorder as an illness that affects children, it can last into adulthood—and some people aren’t diagnosed until much later in life. \n",
      " ADHD is diagnosed like any other mental illness, so your family doctor is a good place to start. Your family doctor may be able to assess your mental health and start treatment, if needed, or they may refer you to more specialized mental health services. \n",
      " There are a few organizations that can help you find good resources and find some support: \n",
      " The Canadian Attention Deficit Hyperactivity Disorder Resource Alliance (CADDRA) is an organization that supports health professionals who research ADHD, treat and support people diagnosed with ADHD, and trains professionals. In the ‘Public Info’ section of their website, you’ll find more information on adult ADHD and the assessment process. You’ll also find extensive resources and recommended publications. \n",
      " The Centre for ADHD Awareness, Canada provides education and advocacy for Canadians who experience ADHD. They have a section on their website for adults, including information on symptoms and assessments, treatments, ADHD in the workplace, resources, and a reading list. \n",
      " CHADD Vancouver offers a monthly support group for adults in the Vancouver area.\n",
      "\n",
      "\n",
      "Combined Context for Query:\n",
      "Q: How can I use distraction to manage difficult thoughts or feelings?\n",
      "A: Distraction is a very valid tool to help you cope when everything feels overwhelming or when you feel lonely or isolated. \n",
      " If you don't have a lot of energy or focus right now, try low-effort distractions like watching TV, browsing Youtube, listening to a podcast or audiobook, playing a game on your phone, reading an easy book or magazine, or working on a simple art project. \n",
      " If you have more energy and focus, give yourself a to-do list every day: you can clean and take care of projects around your home, work on hobbies, connect with family or friends, read a new book and catch up on your favourite TV shows. You can find interesting opportunities to take online courses from universities all over the world through MOOCs and other online learning platforms, you can learn a new language online or through apps, and you can learn new hobbies and activities. As more people have to practice social distancing or self-isolation, people are finding creative ways to bring the world into their homes: you can tour museums and art galleries, Skype with a scientist, watch animals at zoos and nature preserves, and more. \n",
      " When normal schedules are disrupted, it's easy to fall into unhelpful habits. Look for ways to keep yourself on track with healthier habits. You could set yourself goals every day or turn activities into a fun competition with friends or family—whoever takes the most language classes wins! \n",
      " Many communities are using social media platforms like Facebook to organize support and help for neighbours. If you are healthy and it's safe to do so, you can sign up to walk dogs, pick up groceries and household supplies, and help others who can't go out at the moment. This can be a great way to make new connections in your area, and helping others is good for your own mental health. Just be sure to follow good hygiene practices and physical distancing—your own health is important.\n",
      "Q: What do I do if I’m worried about my mental health?\n",
      "A: The most important thing is to talk to someone you trust. This might be a friend, colleague, family member, or GP. In addition to talking to someone, it may be useful to find out more information about what you are experiencing. These things may help to get some perspective on what you are experiencing, and be the start of getting help.\n",
      "Q: What's the difference between anxiety and stress?\n",
      "A: Stress and anxiety are often used interchangeably, and there is overlap between stress and anxiety. Stress is related to the same ‘fight, flight, or freeze’ response as anxiety, and the physical sensations of anxiety and stress may be very similar. \n",
      " The cause of stress and anxiety are usually different, however. Stress focuses on mainly external pressures on us that we’re finding hard to cope with. When we are stressed, we usually know what we’re stressed about, and the symptoms of stress typically disappear after the stressful situation is over. \n",
      " Anxiety, on the other hand, isn’t always as easy to figure out. Anxiety focuses on worries or fears about things that could threaten us, as well as anxiety about the anxiety itself. Stress and anxiety are both part of being human, but both can be problems if they last for a long time or have an impact on our well-being or daily life.\n",
      "Q: I’m an adult and I think I might have ADHD. What can I do next?\n",
      "A: While we think of attention-deficit/hyperactivity disorder as an illness that affects children, it can last into adulthood—and some people aren’t diagnosed until much later in life. \n",
      " ADHD is diagnosed like any other mental illness, so your family doctor is a good place to start. Your family doctor may be able to assess your mental health and start treatment, if needed, or they may refer you to more specialized mental health services. \n",
      " There are a few organizations that can help you find good resources and find some support: \n",
      " The Canadian Attention Deficit Hyperactivity Disorder Resource Alliance (CADDRA) is an organization that supports health professionals who research ADHD, treat and support people diagnosed with ADHD, and trains professionals. In the ‘Public Info’ section of their website, you’ll find more information on adult ADHD and the assessment process. You’ll also find extensive resources and recommended publications. \n",
      " The Centre for ADHD Awareness, Canada provides education and advocacy for Canadians who experience ADHD. They have a section on their website for adults, including information on symptoms and assessments, treatments, ADHD in the workplace, resources, and a reading list. \n",
      " CHADD Vancouver offers a monthly support group for adults in the Vancouver area.\n"
     ]
    }
   ],
   "source": [
    "# Load the FAISS index\n",
    "index = faiss.read_index(\"faiss_index_file.index\")\n",
    "print(\"FAISS index loaded successfully!\")\n",
    "\n",
    "# Query\n",
    "query = \"I feel anxious in public speaking? What should I do?\"\n",
    "query_embedding = np.array(embedding_model.encode([query]), dtype='float32')\n",
    "\n",
    "# Search for similar contexts\n",
    "print(\"Searching for similar contexts...\")\n",
    "k = 4  # Number of nearest neighbors to retrieve\n",
    "distances, indices = index.search(query_embedding, k)\n",
    "\n",
    "# Retrieve top contexts\n",
    "results = []\n",
    "for i in indices[0]:\n",
    "    if i < len(data):\n",
    "        results.append({\n",
    "            'question': data.iloc[i]['Questions'],\n",
    "            'answer': data.iloc[i]['Answers']\n",
    "        })\n",
    "\n",
    "# Display retrieved contexts\n",
    "print(\"\\nTop Matching Contexts:\")\n",
    "for res in results:\n",
    "    print(f\"Q: {res['question']}\\nA: {res['answer']}\\n\")\n",
    "\n",
    "# Combine results for context text\n",
    "context_text = \"\\n\".join([f\"Q: {res['question']}\\nA: {res['answer']}\" for res in results])\n",
    "print(\"\\nCombined Context for Query:\")\n",
    "print(context_text)"
   ]
  },
  {
   "cell_type": "code",
   "execution_count": 24,
   "metadata": {},
   "outputs": [
    {
     "name": "stdout",
     "output_type": "stream",
     "text": [
      "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\n"
     ]
    }
   ],
   "source": [
    "from dotenv import load_dotenv\n",
    "import os\n",
    "\n",
    "# Load variables from the .env file\n",
    "load_dotenv()\n",
    "\n",
    "api_key = os.getenv('API_KEY')\n",
    "print(api_key)"
   ]
  },
  {
   "cell_type": "code",
   "execution_count": 25,
   "metadata": {},
   "outputs": [],
   "source": [
    "from langchain_groq import ChatGroq\n",
    "\n",
    "llm = ChatGroq(\n",
    "    model=\"llama-3.1-8b-instant\",\n",
    "    temperature=1,\n",
    "    groq_api_key = api_key\n",
    ")"
   ]
  },
  {
   "cell_type": "code",
   "execution_count": 26,
   "metadata": {},
   "outputs": [],
   "source": [
    "# Construct the prompt combining context and the user's query\n",
    "prompt = f\"\"\"\n",
    "You are a mental health assistant providing thoughtful and empathetic responses based on a context of similar questions and answers.\n",
    "\n",
    "Context:\n",
    "{context_text}\n",
    "\n",
    "User's Question:\n",
    "{query}\n",
    "\n",
    "Provide a helpful and supportive response based on the context.\n",
    "\"\"\"\n"
   ]
  },
  {
   "cell_type": "code",
   "execution_count": 27,
   "metadata": {},
   "outputs": [
    {
     "name": "stdout",
     "output_type": "stream",
     "text": [
      "content=\"It's completely normal to feel anxious when faced with public speaking. Many people experience anxiety in high-pressure situations like this, and it's not necessarily something to be ashamed of. \\n\\nOne helpful approach when dealing with public speaking anxiety is to focus on distractions. Instead of ruminating on your anxiety or worrying about what others might think, try to focus on what you're doing or saying. This can help take your mind off your anxiety and distract you from it. For example, you can think about the content of your presentation, practice what you're going to say, or focus on the audience you're speaking to.\\n\\nTo get even more comfortable, consider building your confidence by taking small steps. Begin by practicing public speaking in low-stakes situations, like speaking up in a small meeting or presenting an idea to a friend or family member. As you become more confident, you can gradually move on to more significant public speaking situations.\\n\\nIt's also helpful to remember that everyone gets nervous sometimes, even experienced public speakers. Your anxiety doesn't define your speakership; it's a normal part of the process, and it's not a reflection of your ability to communicate effectively.\\n\\nLastly, practice relaxation techniques, like deep breathing or visualization, to help calm your nerves before a public speech. You can also develop a pre-speaking ritual to help you feel more confident and centered.\\n\\nIt might be helpful to talk to someone you trust about your anxiety, whether it's a friend, family member, or mental health professional. They can offer support, provide valuable advice, or even help you learn more relaxation techniques or coping strategies.\\n\\nKeep in mind that it's okay to take your time and work at your own pace. You can't just wave the anxiety away, but you can learn to manage it, and with time and practice, you can become a confident and capable public speaker.\\n\\nWould you like to talk more about this?\" additional_kwargs={} response_metadata={'token_usage': {'completion_tokens': 383, 'prompt_tokens': 768, 'total_tokens': 1151, 'completion_time': 0.510666667, 'prompt_time': 0.024311226, 'queue_time': 0.237039737, 'total_time': 0.534977893}, 'model_name': 'llama-3.1-8b-instant', 'system_fingerprint': 'fp_21a77a6a8c', 'finish_reason': 'stop', 'logprobs': None} id='run-722e4336-b23b-44ce-9649-f28aab0bc505-0' usage_metadata={'input_tokens': 768, 'output_tokens': 383, 'total_tokens': 1151}\n"
     ]
    }
   ],
   "source": [
    "\n",
    "# Generate the response\n",
    "response = llm.invoke(prompt)\n",
    "\n",
    "# Print the response\n",
    "print(response)"
   ]
  }
 ],
 "metadata": {
  "kernelspec": {
   "display_name": "venv",
   "language": "python",
   "name": "python3"
  },
  "language_info": {
   "codemirror_mode": {
    "name": "ipython",
    "version": 3
   },
   "file_extension": ".py",
   "mimetype": "text/x-python",
   "name": "python",
   "nbconvert_exporter": "python",
   "pygments_lexer": "ipython3",
   "version": "3.12.4"
  }
 },
 "nbformat": 4,
 "nbformat_minor": 2
}
